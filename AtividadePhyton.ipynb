{
  "nbformat": 4,
  "nbformat_minor": 0,
  "metadata": {
    "colab": {
      "provenance": [],
      "authorship_tag": "ABX9TyO8C+8OBr92j3F7YpOvTQgd",
      "include_colab_link": true
    },
    "kernelspec": {
      "name": "python3",
      "display_name": "Python 3"
    },
    "language_info": {
      "name": "python"
    }
  },
  "cells": [
    {
      "cell_type": "markdown",
      "metadata": {
        "id": "view-in-github",
        "colab_type": "text"
      },
      "source": [
        "<a href=\"https://colab.research.google.com/github/Jackson8119/a3-programacao/blob/main/AtividadePhyton.ipynb\" target=\"_parent\"><img src=\"https://colab.research.google.com/assets/colab-badge.svg\" alt=\"Open In Colab\"/></a>"
      ]
    },
    {
      "cell_type": "code",
      "execution_count": 3,
      "metadata": {
        "colab": {
          "base_uri": "https://localhost:8080/"
        },
        "id": "W84ON1CGW6st",
        "outputId": "ab839bc8-04bb-490e-d6b9-bdabf912bc62"
      },
      "outputs": [
        {
          "output_type": "stream",
          "name": "stdout",
          "text": [
            "Digite a 1° nota: 9.7\n",
            "Digite a 2° nota: 10.00\n",
            "Digite a 3° nota: 10.00\n",
            "Aluno aprovado com média 9.90\n"
          ]
        }
      ],
      "source": [
        "nota1 = float(input(\"Digite a 1° nota: \"))\n",
        "nota2 = float(input(\"Digite a 2° nota: \"))\n",
        "nota3 = float(input(\"Digite a 3° nota: \"))\n",
        "media = (nota1 + nota2 + nota3) / 3\n",
        "if media >= 7:\n",
        "    print(f\"Aluno aprovado com média {media:.2f}\")\n",
        "else:\n",
        "    print(f\"Aluno em recuperação com média {media:.2f}\")"
      ]
    }
  ]
}